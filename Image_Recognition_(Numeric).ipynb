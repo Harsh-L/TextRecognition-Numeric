{
  "nbformat": 4,
  "nbformat_minor": 0,
  "metadata": {
    "colab": {
      "provenance": []
    },
    "kernelspec": {
      "name": "python3",
      "display_name": "Python 3"
    },
    "language_info": {
      "name": "python"
    },
    "accelerator": "GPU",
    "gpuClass": "standard"
  },
  "cells": [
    {
      "cell_type": "code",
      "source": [
        "!pip install opencv-python"
      ],
      "metadata": {
        "id": "73tDjxace5oM"
      },
      "execution_count": null,
      "outputs": []
    },
    {
      "cell_type": "code",
      "source": [
        "!pip install tensorflow-gpu"
      ],
      "metadata": {
        "id": "0-F5DGvXD-Z4"
      },
      "execution_count": null,
      "outputs": []
    },
    {
      "cell_type": "code",
      "execution_count": null,
      "metadata": {
        "id": "WyBkwSFMonXc",
        "colab": {
          "base_uri": "https://localhost:8080/"
        },
        "outputId": "86bf56c8-d3a3-490b-d4a7-305fac492af9"
      },
      "outputs": [
        {
          "output_type": "stream",
          "name": "stdout",
          "text": [
            "Libraries Imported\n"
          ]
        }
      ],
      "source": [
        "import tensorflow as tf\n",
        "import matplotlib.pyplot as plt\n",
        "import numpy as np\n",
        "import cv2 as cv\n",
        "import os\n",
        "#from google.colab.patches import cv2_imshow\n",
        "from tensorflow.keras.utils import to_categorical\n",
        "print('Libraries Imported')"
      ]
    },
    {
      "cell_type": "code",
      "source": [
        "!pip list"
      ],
      "metadata": {
        "id": "8cosKRE5DmSg"
      },
      "execution_count": null,
      "outputs": []
    },
    {
      "cell_type": "code",
      "source": [
        "#os.environ[\"CUDA_VISIBLE_DEVICES\"]=\"0\"\n",
        "#from tensorflow.python.client import device_lib\n",
        "#print (device_lib.list_local_devices())\n",
        "print(\"---------------------------------------\")\n",
        "print(tf.config.list_physical_devices())\n",
        "print(\"Num GPUs Available: \", len(tf.config.list_physical_devices('GPU')))"
      ],
      "metadata": {
        "colab": {
          "base_uri": "https://localhost:8080/"
        },
        "id": "OFATEscIDAJl",
        "outputId": "314a94a5-8ccd-4910-ace4-f457025aed0c"
      },
      "execution_count": null,
      "outputs": [
        {
          "output_type": "stream",
          "name": "stdout",
          "text": [
            "---------------------------------------\n",
            "[PhysicalDevice(name='/physical_device:CPU:0', device_type='CPU'), PhysicalDevice(name='/physical_device:GPU:0', device_type='GPU')]\n",
            "Num GPUs Available:  1\n"
          ]
        }
      ]
    },
    {
      "cell_type": "code",
      "source": [
        "(x_train, y_train), _ = tf.keras.datasets.mnist.load_data()\n",
        "print(\"x_train : \", x_train.shape)\n",
        "print(\"y_train : \", y_train.shape)\n",
        "print(\"x_train type : \", type(x_train))\n",
        "print(\"y_train type : \", type(y_train))\n",
        "x_train = x_train.reshape(60000, 784).astype('float32')/255\n",
        "y_train = to_categorical(y_train, num_classes=10)\n",
        "print(\"x_train : \", x_train.shape)\n",
        "print(\"y_train : \", y_train.shape)\n",
        "print(\"x_train type : \", type(x_train))\n",
        "print(\"y_train type : \", type(y_train))"
      ],
      "metadata": {
        "id": "vmyE1lSgpGs6",
        "colab": {
          "base_uri": "https://localhost:8080/"
        },
        "outputId": "45f1d960-8c05-4733-daa7-b6eb33ef2fe8"
      },
      "execution_count": null,
      "outputs": [
        {
          "output_type": "stream",
          "name": "stdout",
          "text": [
            "x_train :  (60000, 28, 28)\n",
            "y_train :  (60000,)\n",
            "x_train type :  <class 'numpy.ndarray'>\n",
            "y_train type :  <class 'numpy.ndarray'>\n",
            "x_train :  (60000, 784)\n",
            "y_train :  (60000, 10)\n",
            "x_train type :  <class 'numpy.ndarray'>\n",
            "y_train type :  <class 'numpy.ndarray'>\n"
          ]
        }
      ]
    },
    {
      "cell_type": "code",
      "source": [
        "model = tf.keras.Sequential()\n",
        "model.add(tf.keras.layers.Dense(10, activation='sigmoid', input_shape=(784,)))\n",
        "model.add(tf.keras.layers.Dense(10, activation='softmax'))\n",
        "print(type(model))"
      ],
      "metadata": {
        "id": "AW3YwQSro85K",
        "colab": {
          "base_uri": "https://localhost:8080/"
        },
        "outputId": "13bf5d7a-c912-4acf-86dc-2d156e20ec87"
      },
      "execution_count": null,
      "outputs": [
        {
          "output_type": "stream",
          "name": "stdout",
          "text": [
            "<class 'keras.engine.sequential.Sequential'>\n"
          ]
        }
      ]
    },
    {
      "cell_type": "code",
      "source": [
        "model.compile(loss=\"categorical_crossentropy\", optimizer=\"sgd\",metrics = ['accuracy'])\n",
        "model.fit(x_train, y_train, epochs=10, verbose=0)"
      ],
      "metadata": {
        "id": "YT37d33XpXag",
        "colab": {
          "base_uri": "https://localhost:8080/"
        },
        "outputId": "c1dd5217-6b17-4975-cf2e-125e659449ef"
      },
      "execution_count": null,
      "outputs": [
        {
          "output_type": "execute_result",
          "data": {
            "text/plain": [
              "<keras.callbacks.History at 0x282d3dfdfa0>"
            ]
          },
          "metadata": {},
          "execution_count": 9
        }
      ]
    },
    {
      "cell_type": "code",
      "source": [
        "_, (x_test_, y_test_)= tf.keras.datasets.mnist.load_data()\n",
        "x_test = x_test_.reshape(10000, 784).astype('float32')/255\n",
        "y_test = to_categorical(y_test_, num_classes=10)\n",
        "print('x_train Type : ', type(x_train))\n",
        "print('y_train Type : ', type(y_train))\n",
        "print('x_test Type : ', type(x_test))\n",
        "print('y_test Type : ', type(y_test))\n",
        "print('x_train Shape : ', x_train.shape)\n",
        "print('y_train Shape : ', y_train.shape)\n",
        "print('x_test Shape : ', x_test.shape)\n",
        "print('y_test Shape : ', y_test.shape)\n",
        "print('x_test_ Shape : ', x_test_.shape)\n",
        "print('y_test_ Shape : ', y_test_.shape)"
      ],
      "metadata": {
        "id": "_Dr4bkD5pfgu",
        "colab": {
          "base_uri": "https://localhost:8080/"
        },
        "outputId": "ad914480-9bd5-4a51-cec0-d2053864d23e"
      },
      "execution_count": null,
      "outputs": [
        {
          "output_type": "stream",
          "name": "stdout",
          "text": [
            "x_train Type :  <class 'numpy.ndarray'>\n",
            "y_train Type :  <class 'numpy.ndarray'>\n",
            "x_test Type :  <class 'numpy.ndarray'>\n",
            "y_test Type :  <class 'numpy.ndarray'>\n",
            "x_train Shape :  (60000, 784)\n",
            "y_train Shape :  (60000, 10)\n",
            "x_test Shape :  (10000, 784)\n",
            "y_test Shape :  (10000, 10)\n",
            "x_test_ Shape :  (10000, 28, 28)\n",
            "y_test_ Shape :  (10000,)\n"
          ]
        }
      ]
    },
    {
      "cell_type": "code",
      "source": [
        "test_loss, test_acc = model.evaluate(x_test, y_test)\n",
        "print('Test Accuracy :', test_acc)"
      ],
      "metadata": {
        "colab": {
          "base_uri": "https://localhost:8080/"
        },
        "id": "aYzNm4LfpwW9",
        "outputId": "c76ef374-20a2-42b5-b964-f905e47782ae"
      },
      "execution_count": null,
      "outputs": [
        {
          "output_type": "stream",
          "name": "stdout",
          "text": [
            "313/313 [==============================] - 2s 6ms/step - loss: 0.4258 - accuracy: 0.8926\n",
            "Test Accuracy : 0.8925999999046326\n"
          ]
        }
      ]
    },
    {
      "cell_type": "code",
      "source": [
        "image_loc = 19\n",
        "print(len(x_test_))\n",
        "print(x_test.shape)\n",
        "image = plt.imshow(x_test_[image_loc], cmap=plt.cm.binary)\n",
        "print(type(image))"
      ],
      "metadata": {
        "id": "UiCtnm9Xp_pi",
        "colab": {
          "base_uri": "https://localhost:8080/",
          "height": 317
        },
        "outputId": "c226171e-cf64-4fbd-afd4-3643b40db71a"
      },
      "execution_count": null,
      "outputs": [
        {
          "output_type": "stream",
          "name": "stdout",
          "text": [
            "10000\n",
            "(10000, 784)\n",
            "<class 'matplotlib.image.AxesImage'>\n"
          ]
        },
        {
          "output_type": "display_data",
          "data": {
            "text/plain": [
              "<Figure size 432x288 with 1 Axes>"
            ],
            "image/png": "[encoded data removed]"
          },
          "metadata": {
            "needs_background": "light"
          }
        }
      ]
    },
    {
      "cell_type": "code",
      "source": [
        "prediction = model.predict(x_test)\n",
        "print(f\"x_test shape {x_test.shape}\")\n",
        "#print(type(prediction))\n",
        "print(\"Model prediction: \", np.argmax(prediction[image_loc]) )\n",
        "print(\"Model prediction Array: \", prediction[image_loc])\n"
      ],
      "metadata": {
        "colab": {
          "base_uri": "https://localhost:8080/",
          "height": 356
        },
        "id": "cpqeXwnrrJe2",
        "outputId": "4b2be748-51d7-4c1b-9d65-8917747891ed"
      },
      "execution_count": null,
      "outputs": [
        {
          "output_type": "stream",
          "name": "stdout",
          "text": [
            "313/313 [==============================] - 1s 3ms/step\n",
            "x_test shape (10000, 784)\n",
            "Model prediction:  4\n",
            "Model prediction Array:  [8.5641810e-04 7.4783975e-04 1.2430995e-03 1.8787166e-03 8.3724141e-01\n",
            " 6.3679931e-03 1.3886225e-02 7.5520570e-03 7.2500817e-03 1.2297629e-01]\n"
          ]
        },
        {
          "output_type": "display_data",
          "data": {
            "text/plain": [
              "<Figure size 432x288 with 1 Axes>"
            ],
            "image/png": "[encoded data removed]"
          },
          "metadata": {
            "needs_background": "light"
          }
        }
      ]
    },
    {
      "cell_type": "markdown",
      "source": [
        "# Testing New User Imput"
      ],
      "metadata": {
        "id": "sM2CXZOxYRw2"
      }
    },
    {
      "cell_type": "code",
      "source": [
        "from PIL import Image"
      ],
      "metadata": {
        "id": "xVIMoaVsTmWS"
      },
      "execution_count": null,
      "outputs": []
    },
    {
      "cell_type": "code",
      "source": [
        "path = 'R:/AI ML DS/1_image.jpg'\n",
        "img = cv.imread(path)"
      ],
      "metadata": {
        "id": "nQhCPAgGhaaN"
      },
      "execution_count": null,
      "outputs": []
    },
    {
      "cell_type": "code",
      "source": [
        "plt.imshow(img, cmap=plt.cm.binary)\n",
        "print(img.shape)"
      ],
      "metadata": {
        "colab": {
          "base_uri": "https://localhost:8080/",
          "height": 286
        },
        "id": "yjAF-WMpiFtZ",
        "outputId": "73cc4b88-56ee-4dd8-e896-2512e86347dc"
      },
      "execution_count": null,
      "outputs": [
        {
          "output_type": "stream",
          "name": "stdout",
          "text": [
            "(474, 474, 3)\n"
          ]
        },
        {
          "output_type": "display_data",
          "data": {
            "text/plain": [
              "<Figure size 432x288 with 1 Axes>"
            ],
            "image/png": "[encoded data removed]"
          },
          "metadata": {
            "needs_background": "light"
          }
        }
      ]
    },
    {
      "cell_type": "code",
      "source": [
        "new_img = np.resize(img, (28,28))\n",
        "print(f\"new img shape : {new_img.shape}\")\n",
        "#plt.imshow(new_img)\n",
        "\n",
        "d_img = new_img / 255\n",
        "print(f\"d img shape : {d_img.shape}\")\n",
        "#plt.imshow(d_img)\n",
        "\n",
        "r_img = np.reshape(d_img,(1, 28* 28))\n",
        "print(f\"r img : {r_img.shape}\")\n",
        "#plt.imshow(r_img)\n",
        "\n",
        "prediction = model.predict(r_img)\n",
        "print(np.argmax(prediction))"
      ],
      "metadata": {
        "colab": {
          "base_uri": "https://localhost:8080/",
          "height": 352
        },
        "id": "R6LrHZGJT5vC",
        "outputId": "d6db2063-cfe1-4928-f183-c591c01fda12"
      },
      "execution_count": null,
      "outputs": [
        {
          "output_type": "stream",
          "name": "stdout",
          "text": [
            "new img shape : (28, 28)\n",
            "d img shape : (28, 28)\n",
            "r img : (1, 784)\n",
            "1/1 [==============================] - 0s 34ms/step\n",
            "3\n"
          ]
        },
        {
          "output_type": "display_data",
          "data": {
            "text/plain": [
              "<Figure size 432x288 with 1 Axes>"
            ],
            "image/png": "[encoded data removed]"
          },
          "metadata": {
            "needs_background": "light"
          }
        }
      ]
    },
    {
      "cell_type": "markdown",
      "source": [
        "# Testing User Input"
      ],
      "metadata": {
        "id": "mWaZMLFMWHt6"
      }
    },
    {
      "cell_type": "code",
      "source": [
        "my_img = cv.imread('/content/number_zero.png')"
      ],
      "metadata": {
        "id": "DQb0rVjmYHbd"
      },
      "execution_count": null,
      "outputs": []
    },
    {
      "cell_type": "code",
      "source": [
        "print(my_img.shape)"
      ],
      "metadata": {
        "colab": {
          "base_uri": "https://localhost:8080/"
        },
        "id": "79Jjsmr9dGB7",
        "outputId": "5733c403-4edb-4a19-d483-374842766f51"
      },
      "execution_count": null,
      "outputs": [
        {
          "output_type": "stream",
          "name": "stdout",
          "text": [
            "(370, 353, 3)\n"
          ]
        }
      ]
    },
    {
      "cell_type": "code",
      "source": [
        "my_img_resize = cv.resize(my_img, (28,28))\n",
        "my_img_reshape = my_img_resize.astype('float32')/255\n",
        "#my_img_reshape = my_img_resize.reshape(1,784).astype('float32')/255\n",
        "#plt.imshow(my_img, cmap=plt.cm.binary)\n",
        "gray_my_img = cv.cvtColor(my_img_reshape, cv.COLOR_BGR2GRAY)\n",
        "gray_my_img = np.expand_dims(gray_my_img, 2)\n",
        "print(\"My Gray Image Dimensions : \",gray_my_img.shape)\n",
        "gray_my_img_reshape = gray_my_img.reshape(1,784).astype('float32')/255\n",
        "print(\"My Gray Test Image Dimensions : \",gray_my_img_reshape.shape)\n",
        "plt.imshow(my_img_reshape)\n",
        "print(\"My Image Dimensions : \",my_img_reshape.shape)"
      ],
      "metadata": {
        "colab": {
          "base_uri": "https://localhost:8080/",
          "height": 320
        },
        "id": "NW2zmrXPKjy1",
        "outputId": "0be4fa17-51b5-4435-fbe7-99cd1bfcfc76"
      },
      "execution_count": null,
      "outputs": [
        {
          "output_type": "stream",
          "name": "stdout",
          "text": [
            "My Gray Image Dimensions :  (28, 28, 1)\n",
            "My Gray Test Image Dimensions :  (1, 784)\n",
            "My Image Dimensions :  (28, 28, 3)\n"
          ]
        },
        {
          "output_type": "display_data",
          "data": {
            "image/png": "[encoded data removed]",
            "text/plain": [
              "<Figure size 432x288 with 1 Axes>"
            ]
          },
          "metadata": {
            "needs_background": "light"
          }
        }
      ]
    },
    {
      "cell_type": "code",
      "source": [
        "#my_num_prediction = model.predict(my_img_reshape)\n",
        "my_num_prediction = model.predict(gray_my_img_reshape)\n",
        "print(\"Model prediction: \", np.argmax(my_num_prediction))\n",
        "print(\"Model prediction: \", my_num_prediction )"
      ],
      "metadata": {
        "colab": {
          "base_uri": "https://localhost:8080/"
        },
        "id": "bj46_v_YSJsV",
        "outputId": "53fae17c-8d82-40db-c9b9-365bd4116a1c"
      },
      "execution_count": null,
      "outputs": [
        {
          "output_type": "stream",
          "name": "stdout",
          "text": [
            "Model prediction:  7\n",
            "Model prediction:  [[0.05010388 0.125379   0.09636813 0.10883628 0.08176217 0.12273619\n",
            "  0.07537106 0.1853457  0.03883319 0.11526445]]\n"
          ]
        }
      ]
    }
  ]
}